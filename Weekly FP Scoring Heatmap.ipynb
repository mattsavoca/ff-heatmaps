{
 "cells": [
  {
   "cell_type": "code",
   "execution_count": 2,
   "id": "f1f1b052-e6bb-4593-af13-a5eba0658768",
   "metadata": {},
   "outputs": [
    {
     "data": {
      "text/plain": [
       "'C:\\\\Users\\\\matts\\\\Dropbox\\\\Matt Savoca\\\\Projects\\\\NFL 2023\\\\Project - Weekly FF Heatmaps'"
      ]
     },
     "execution_count": 2,
     "metadata": {},
     "output_type": "execute_result"
    }
   ],
   "source": [
    "import os \n",
    "cwd = os.getcwd()\n",
    "cwd\n",
    "#dir_path = os.path.dirname(os.path.realpath(__file__))"
   ]
  },
  {
   "cell_type": "code",
   "execution_count": 5,
   "id": "c6a0d281-83a8-4791-9677-500158f2033a",
   "metadata": {},
   "outputs": [
    {
     "data": {
      "text/html": [
       "<div>\n",
       "<style scoped>\n",
       "    .dataframe tbody tr th:only-of-type {\n",
       "        vertical-align: middle;\n",
       "    }\n",
       "\n",
       "    .dataframe tbody tr th {\n",
       "        vertical-align: top;\n",
       "    }\n",
       "\n",
       "    .dataframe thead th {\n",
       "        text-align: right;\n",
       "    }\n",
       "</style>\n",
       "<table border=\"1\" class=\"dataframe\">\n",
       "  <thead>\n",
       "    <tr style=\"text-align: right;\">\n",
       "      <th></th>\n",
       "      <th>player_id</th>\n",
       "      <th>week</th>\n",
       "      <th>name</th>\n",
       "      <th>pos</th>\n",
       "      <th>team</th>\n",
       "      <th>points</th>\n",
       "      <th>season</th>\n",
       "      <th>pt_change</th>\n",
       "      <th>sum_pts</th>\n",
       "      <th>tm_points</th>\n",
       "      <th>tm_wk_pts</th>\n",
       "      <th>division</th>\n",
       "      <th>conf</th>\n",
       "      <th>game_label</th>\n",
       "      <th>game_pts</th>\n",
       "      <th>initials</th>\n",
       "      <th>pos_avg</th>\n",
       "      <th>pos_val</th>\n",
       "      <th>id</th>\n",
       "    </tr>\n",
       "  </thead>\n",
       "  <tbody>\n",
       "    <tr>\n",
       "      <th>0</th>\n",
       "      <td>00-0038542</td>\n",
       "      <td>3</td>\n",
       "      <td>Bijan Robinson</td>\n",
       "      <td>RB</td>\n",
       "      <td>ATL</td>\n",
       "      <td>10.00</td>\n",
       "      <td>2023</td>\n",
       "      <td>NaN</td>\n",
       "      <td>17.166667</td>\n",
       "      <td>68.973333</td>\n",
       "      <td>53.54</td>\n",
       "      <td>NFC South</td>\n",
       "      <td>NFC</td>\n",
       "      <td>ATL vs. DET</td>\n",
       "      <td>485.08</td>\n",
       "      <td>BR</td>\n",
       "      <td>10.107407</td>\n",
       "      <td>-0.107407</td>\n",
       "      <td>00-0038542</td>\n",
       "    </tr>\n",
       "    <tr>\n",
       "      <th>1</th>\n",
       "      <td>00-0038122</td>\n",
       "      <td>3</td>\n",
       "      <td>Desmond Ridder</td>\n",
       "      <td>QB</td>\n",
       "      <td>ATL</td>\n",
       "      <td>8.34</td>\n",
       "      <td>2023</td>\n",
       "      <td>NaN</td>\n",
       "      <td>12.873333</td>\n",
       "      <td>68.973333</td>\n",
       "      <td>53.54</td>\n",
       "      <td>NFC South</td>\n",
       "      <td>NFC</td>\n",
       "      <td>ATL vs. DET</td>\n",
       "      <td>485.08</td>\n",
       "      <td>DR</td>\n",
       "      <td>15.628148</td>\n",
       "      <td>-7.288148</td>\n",
       "      <td>00-0038122</td>\n",
       "    </tr>\n",
       "    <tr>\n",
       "      <th>2</th>\n",
       "      <td>00-0037263</td>\n",
       "      <td>3</td>\n",
       "      <td>Tyler Allgeier</td>\n",
       "      <td>RB</td>\n",
       "      <td>ATL</td>\n",
       "      <td>4.90</td>\n",
       "      <td>2023</td>\n",
       "      <td>NaN</td>\n",
       "      <td>11.366667</td>\n",
       "      <td>68.973333</td>\n",
       "      <td>53.54</td>\n",
       "      <td>NFC South</td>\n",
       "      <td>NFC</td>\n",
       "      <td>ATL vs. DET</td>\n",
       "      <td>485.08</td>\n",
       "      <td>TA</td>\n",
       "      <td>10.107407</td>\n",
       "      <td>-5.207407</td>\n",
       "      <td>00-0037263</td>\n",
       "    </tr>\n",
       "    <tr>\n",
       "      <th>3</th>\n",
       "      <td>00-0033858</td>\n",
       "      <td>3</td>\n",
       "      <td>Jonnu Smith</td>\n",
       "      <td>TE</td>\n",
       "      <td>ATL</td>\n",
       "      <td>8.70</td>\n",
       "      <td>2023</td>\n",
       "      <td>NaN</td>\n",
       "      <td>8.700000</td>\n",
       "      <td>68.973333</td>\n",
       "      <td>53.54</td>\n",
       "      <td>NFC South</td>\n",
       "      <td>NFC</td>\n",
       "      <td>ATL vs. DET</td>\n",
       "      <td>485.08</td>\n",
       "      <td>JS</td>\n",
       "      <td>7.047222</td>\n",
       "      <td>1.652778</td>\n",
       "      <td>00-0033858</td>\n",
       "    </tr>\n",
       "    <tr>\n",
       "      <th>4</th>\n",
       "      <td>00-0037238</td>\n",
       "      <td>3</td>\n",
       "      <td>Drake London</td>\n",
       "      <td>WR</td>\n",
       "      <td>ATL</td>\n",
       "      <td>5.10</td>\n",
       "      <td>2023</td>\n",
       "      <td>NaN</td>\n",
       "      <td>7.933333</td>\n",
       "      <td>68.973333</td>\n",
       "      <td>53.54</td>\n",
       "      <td>NFC South</td>\n",
       "      <td>NFC</td>\n",
       "      <td>ATL vs. DET</td>\n",
       "      <td>485.08</td>\n",
       "      <td>DL</td>\n",
       "      <td>10.517000</td>\n",
       "      <td>-5.417000</td>\n",
       "      <td>00-0037238</td>\n",
       "    </tr>\n",
       "  </tbody>\n",
       "</table>\n",
       "</div>"
      ],
      "text/plain": [
       "    player_id  week            name pos team  points  season  pt_change  \\\n",
       "0  00-0038542     3  Bijan Robinson  RB  ATL   10.00    2023        NaN   \n",
       "1  00-0038122     3  Desmond Ridder  QB  ATL    8.34    2023        NaN   \n",
       "2  00-0037263     3  Tyler Allgeier  RB  ATL    4.90    2023        NaN   \n",
       "3  00-0033858     3     Jonnu Smith  TE  ATL    8.70    2023        NaN   \n",
       "4  00-0037238     3    Drake London  WR  ATL    5.10    2023        NaN   \n",
       "\n",
       "     sum_pts  tm_points  tm_wk_pts   division conf   game_label  game_pts  \\\n",
       "0  17.166667  68.973333      53.54  NFC South  NFC  ATL vs. DET    485.08   \n",
       "1  12.873333  68.973333      53.54  NFC South  NFC  ATL vs. DET    485.08   \n",
       "2  11.366667  68.973333      53.54  NFC South  NFC  ATL vs. DET    485.08   \n",
       "3   8.700000  68.973333      53.54  NFC South  NFC  ATL vs. DET    485.08   \n",
       "4   7.933333  68.973333      53.54  NFC South  NFC  ATL vs. DET    485.08   \n",
       "\n",
       "  initials    pos_avg   pos_val          id  \n",
       "0       BR  10.107407 -0.107407  00-0038542  \n",
       "1       DR  15.628148 -7.288148  00-0038122  \n",
       "2       TA  10.107407 -5.207407  00-0037263  \n",
       "3       JS   7.047222  1.652778  00-0033858  \n",
       "4       DL  10.517000 -5.417000  00-0037238  "
      ]
     },
     "execution_count": 5,
     "metadata": {},
     "output_type": "execute_result"
    }
   ],
   "source": [
    "import pandas as pd\n",
    "import numpy as np\n",
    "import plotly.express as px\n",
    "from IPython.display import Javascript\n",
    "from plotly.io import to_html\n",
    "import plotly.io as pio\n",
    "import dash\n",
    "from dash import dcc\n",
    "from dash import html\n",
    "import pandas as pd\n",
    "import plotly.express as px\n",
    "import plotly.graph_objects as go\n",
    "\n",
    "df = pd.read_csv(cwd + '\\scoring_heatmap_2023_3.csv')\n",
    "df['pos_avg'] = df.groupby('pos')['points'].transform('mean')\n",
    "df['pos_val'] = df['points'] - df['pos_avg']\n",
    "df['id'] = df['player_id']\n",
    "df.head()"
   ]
  },
  {
   "cell_type": "code",
   "execution_count": 6,
   "id": "5c7aa587-056c-453b-9f6b-703c572ea8f5",
   "metadata": {},
   "outputs": [
    {
     "data": {
      "text/plain": [
       "41.19259259259259"
      ]
     },
     "execution_count": 6,
     "metadata": {},
     "output_type": "execute_result"
    }
   ],
   "source": [
    "df['pos_val'].max()"
   ]
  },
  {
   "cell_type": "code",
   "execution_count": 10,
   "id": "fc033538-966f-44da-acd6-b164ae54acfc",
   "metadata": {
    "editable": true,
    "slideshow": {
     "slide_type": ""
    },
    "tags": []
   },
   "outputs": [
    {
     "data": {
      "text/html": [
       "\n",
       "        <iframe\n",
       "            width=\"100%\"\n",
       "            height=\"650\"\n",
       "            src=\"http://127.0.0.1:8051/\"\n",
       "            frameborder=\"0\"\n",
       "            allowfullscreen\n",
       "            \n",
       "        ></iframe>\n",
       "        "
      ],
      "text/plain": [
       "<IPython.lib.display.IFrame at 0x12068077f40>"
      ]
     },
     "metadata": {},
     "output_type": "display_data"
    }
   ],
   "source": [
    "\n",
    "colors = {\n",
    "    'background': '#111111',\n",
    "    'text': '#7FDBFF'\n",
    "}\n",
    "\n",
    "pio.templates['my_template'] = go.layout.Template(\n",
    "    layout_font_family='\"Open Sans\", sans-serif'  \n",
    ")\n",
    "\n",
    "df['name'] = df['name'].str.upper()\n",
    "df['name'] = df['name'].str.replace(' ', '<br>', 1)\n",
    "df['league'] = \"Chart by Matt Savoca @draftaholic                                              Week 3, 2023.                                                         Data: nflreadR\"\n",
    "color_scale = [(0.0, 'red'), (0.5, '#312D3C'), (1.0, 'green')]\n",
    "\n",
    "fig = px.treemap(df, path=['league','game_label','team', 'name'], values='sum_pts',\n",
    "                 color='pos_val', color_continuous_scale=color_scale,\n",
    "                 hover_data=['name', 'sum_pts', 'game_pts'],\n",
    "                 color_continuous_midpoint=np.average(df['pos_val']),\n",
    "                 height = 2568, width = 4167,\n",
    "                )\n",
    "\n",
    "fig.update_traces(root_color='navy')  \n",
    "fig.update_traces(textposition='middle center')\n",
    "#fig.update_layout(title_font_family='cursive') \n",
    "fig.update_traces(level=\"above\", textfont_family=\"sans-serif\", textfont_size=40)\n",
    "fig.update_layout(legend = {'visible':False})\n",
    "fig.update_traces(marker=dict(line=dict(width=2, color='black')))\n",
    "fig.update(layout_showlegend=False)\n",
    "fig.update_layout(\n",
    "    showlegend=False,\n",
    "    coloraxis_showscale=False,\n",
    ")\n",
    "\n",
    "app = dash.Dash()\n",
    "\n",
    "app.layout = html.Div(style={'backgroundColor': colors['background']}, children=[\n",
    "    dcc.Graph(figure=fig,\n",
    "             config = {'edits':{'legendPosition':False, 'colorbarPosition':False, 'legendText':None}})\n",
    "])\n",
    "\n",
    "if __name__ == '__main__':\n",
    "    app.run_server(debug=True, use_reloader=False, port=8051)"
   ]
  },
  {
   "cell_type": "code",
   "execution_count": 83,
   "id": "3c01d9d6-ef23-4724-b13d-995ac1e417eb",
   "metadata": {},
   "outputs": [
    {
     "data": {
      "text/plain": [
       "<module 'dash_html_components' from 'C:\\\\Python310\\\\lib\\\\site-packages\\\\dash_html_components\\\\__init__.py'>"
      ]
     },
     "execution_count": 83,
     "metadata": {},
     "output_type": "execute_result"
    }
   ],
   "source": [
    "html"
   ]
  }
 ],
 "metadata": {
  "kernelspec": {
   "display_name": "Python 3 (ipykernel)",
   "language": "python",
   "name": "python3"
  },
  "language_info": {
   "codemirror_mode": {
    "name": "ipython",
    "version": 3
   },
   "file_extension": ".py",
   "mimetype": "text/x-python",
   "name": "python",
   "nbconvert_exporter": "python",
   "pygments_lexer": "ipython3",
   "version": "3.10.11"
  }
 },
 "nbformat": 4,
 "nbformat_minor": 5
}
